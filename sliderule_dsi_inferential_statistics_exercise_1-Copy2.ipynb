{
 "cells": [
  {
   "cell_type": "markdown",
   "metadata": {},
   "source": [
    "# What is the True Normal Human Body Temperature? \n",
    "\n",
    "#### Background\n",
    "\n",
    "The mean normal body temperature was held to be 37$^{\\circ}$C or 98.6$^{\\circ}$F for more than 120 years since it was first conceptualized and reported by Carl Wunderlich in a famous 1868 book. But, is this value statistically correct?"
   ]
  },
  {
   "cell_type": "markdown",
   "metadata": {},
   "source": [
    "<h3>Exercises</h3>\n",
    "\n",
    "<p>In this exercise, you will analyze a dataset of human body temperatures and employ the concepts of hypothesis testing, confidence intervals, and statistical significance.</p>\n",
    "\n",
    "<p>Answer the following questions <b>in this notebook below and submit to your Github account</b>.</p> \n",
    "\n",
    "<ol>\n",
    "<li>  Is the distribution of body temperatures normal? \n",
    "    <ul>\n",
    "    <li> Although this is not a requirement for the Central Limit Theorem to hold (read the introduction on Wikipedia's page about the CLT carefully: https://en.wikipedia.org/wiki/Central_limit_theorem), it gives us some peace of mind that the population may also be normally distributed if we assume that this sample is representative of the population.\n",
    "    <li> Think about the way you're going to check for the normality of the distribution. Graphical methods are usually used first, but there are also other ways: https://en.wikipedia.org/wiki/Normality_test\n",
    "    </ul>\n",
    "<li>  Is the sample size large? Are the observations independent?\n",
    "    <ul>\n",
    "    <li> Remember that this is a condition for the Central Limit Theorem, and hence the statistical tests we are using, to apply.\n",
    "    </ul>\n",
    "<li>  Is the true population mean really 98.6 degrees F?\n",
    "    <ul>\n",
    "    <li> First, try a bootstrap hypothesis test.\n",
    "    <li> Now, let's try frequentist statistical testing. Would you use a one-sample or two-sample test? Why?\n",
    "    <li> In this situation, is it appropriate to use the $t$ or $z$ statistic? \n",
    "    <li> Now try using the other test. How is the result be different? Why?\n",
    "    </ul>\n",
    "<li>  Draw a small sample of size 10 from the data and repeat both frequentist tests. \n",
    "    <ul>\n",
    "    <li> Which one is the correct one to use? \n",
    "    <li> What do you notice? What does this tell you about the difference in application of the $t$ and $z$ statistic?\n",
    "    </ul>\n",
    "<li>  At what temperature should we consider someone's temperature to be \"abnormal\"?\n",
    "    <ul>\n",
    "    <li> As in the previous example, try calculating everything using the boostrap approach, as well as the frequentist approach.\n",
    "    <li> Start by computing the margin of error and confidence interval. When calculating the confidence interval, keep in mind that you should use the appropriate formula for one draw, and not N draws.\n",
    "    </ul>\n",
    "<li>  Is there a significant difference between males and females in normal temperature?\n",
    "    <ul>\n",
    "    <li> What testing approach did you use and why?\n",
    "    <li> Write a story with your conclusion in the context of the original problem.\n",
    "    </ul>\n",
    "</ol>\n",
    "\n",
    "You can include written notes in notebook cells using Markdown: \n",
    "   - In the control panel at the top, choose Cell > Cell Type > Markdown\n",
    "   - Markdown syntax: http://nestacms.com/docs/creating-content/markdown-cheat-sheet\n",
    "\n",
    "#### Resources\n",
    "\n",
    "+ Information and data sources: http://www.amstat.org/publications/jse/datasets/normtemp.txt, http://www.amstat.org/publications/jse/jse_data_archive.htm\n",
    "+ Markdown syntax: http://nestacms.com/docs/creating-content/markdown-cheat-sheet\n",
    "\n",
    "****"
   ]
  },
  {
   "cell_type": "code",
   "execution_count": 17,
   "metadata": {},
   "outputs": [
    {
     "data": {
      "text/html": [
       "<div>\n",
       "<style scoped>\n",
       "    .dataframe tbody tr th:only-of-type {\n",
       "        vertical-align: middle;\n",
       "    }\n",
       "\n",
       "    .dataframe tbody tr th {\n",
       "        vertical-align: top;\n",
       "    }\n",
       "\n",
       "    .dataframe thead th {\n",
       "        text-align: right;\n",
       "    }\n",
       "</style>\n",
       "<table border=\"1\" class=\"dataframe\">\n",
       "  <thead>\n",
       "    <tr style=\"text-align: right;\">\n",
       "      <th></th>\n",
       "      <th>temperature</th>\n",
       "      <th>gender</th>\n",
       "      <th>heart_rate</th>\n",
       "    </tr>\n",
       "  </thead>\n",
       "  <tbody>\n",
       "    <tr>\n",
       "      <th>0</th>\n",
       "      <td>99.3</td>\n",
       "      <td>F</td>\n",
       "      <td>68.0</td>\n",
       "    </tr>\n",
       "    <tr>\n",
       "      <th>1</th>\n",
       "      <td>98.4</td>\n",
       "      <td>F</td>\n",
       "      <td>81.0</td>\n",
       "    </tr>\n",
       "    <tr>\n",
       "      <th>2</th>\n",
       "      <td>97.8</td>\n",
       "      <td>M</td>\n",
       "      <td>73.0</td>\n",
       "    </tr>\n",
       "    <tr>\n",
       "      <th>3</th>\n",
       "      <td>99.2</td>\n",
       "      <td>F</td>\n",
       "      <td>66.0</td>\n",
       "    </tr>\n",
       "    <tr>\n",
       "      <th>4</th>\n",
       "      <td>98.0</td>\n",
       "      <td>F</td>\n",
       "      <td>73.0</td>\n",
       "    </tr>\n",
       "  </tbody>\n",
       "</table>\n",
       "</div>"
      ],
      "text/plain": [
       "   temperature gender  heart_rate\n",
       "0         99.3      F        68.0\n",
       "1         98.4      F        81.0\n",
       "2         97.8      M        73.0\n",
       "3         99.2      F        66.0\n",
       "4         98.0      F        73.0"
      ]
     },
     "execution_count": 17,
     "metadata": {},
     "output_type": "execute_result"
    }
   ],
   "source": [
    "import pandas as pd\n",
    "import scipy.stats as stats \n",
    "\n",
    "df = pd.read_csv('data/human_body_temperature.csv')\n",
    "df.head(5)"
   ]
  },
  {
   "cell_type": "code",
   "execution_count": 18,
   "metadata": {},
   "outputs": [
    {
     "data": {
      "text/html": [
       "<div>\n",
       "<style scoped>\n",
       "    .dataframe tbody tr th:only-of-type {\n",
       "        vertical-align: middle;\n",
       "    }\n",
       "\n",
       "    .dataframe tbody tr th {\n",
       "        vertical-align: top;\n",
       "    }\n",
       "\n",
       "    .dataframe thead th {\n",
       "        text-align: right;\n",
       "    }\n",
       "</style>\n",
       "<table border=\"1\" class=\"dataframe\">\n",
       "  <thead>\n",
       "    <tr style=\"text-align: right;\">\n",
       "      <th></th>\n",
       "      <th>temperature</th>\n",
       "      <th>heart_rate</th>\n",
       "    </tr>\n",
       "  </thead>\n",
       "  <tbody>\n",
       "    <tr>\n",
       "      <th>count</th>\n",
       "      <td>130.000000</td>\n",
       "      <td>130.000000</td>\n",
       "    </tr>\n",
       "    <tr>\n",
       "      <th>mean</th>\n",
       "      <td>98.249231</td>\n",
       "      <td>73.761538</td>\n",
       "    </tr>\n",
       "    <tr>\n",
       "      <th>std</th>\n",
       "      <td>0.733183</td>\n",
       "      <td>7.062077</td>\n",
       "    </tr>\n",
       "    <tr>\n",
       "      <th>min</th>\n",
       "      <td>96.300000</td>\n",
       "      <td>57.000000</td>\n",
       "    </tr>\n",
       "    <tr>\n",
       "      <th>25%</th>\n",
       "      <td>97.800000</td>\n",
       "      <td>69.000000</td>\n",
       "    </tr>\n",
       "    <tr>\n",
       "      <th>50%</th>\n",
       "      <td>98.300000</td>\n",
       "      <td>74.000000</td>\n",
       "    </tr>\n",
       "    <tr>\n",
       "      <th>75%</th>\n",
       "      <td>98.700000</td>\n",
       "      <td>79.000000</td>\n",
       "    </tr>\n",
       "    <tr>\n",
       "      <th>max</th>\n",
       "      <td>100.800000</td>\n",
       "      <td>89.000000</td>\n",
       "    </tr>\n",
       "  </tbody>\n",
       "</table>\n",
       "</div>"
      ],
      "text/plain": [
       "       temperature  heart_rate\n",
       "count   130.000000  130.000000\n",
       "mean     98.249231   73.761538\n",
       "std       0.733183    7.062077\n",
       "min      96.300000   57.000000\n",
       "25%      97.800000   69.000000\n",
       "50%      98.300000   74.000000\n",
       "75%      98.700000   79.000000\n",
       "max     100.800000   89.000000"
      ]
     },
     "execution_count": 18,
     "metadata": {},
     "output_type": "execute_result"
    }
   ],
   "source": [
    "df.describe()"
   ]
  },
  {
   "cell_type": "code",
   "execution_count": 19,
   "metadata": {},
   "outputs": [
    {
     "data": {
      "image/png": "[encoded data removed]",
      "text/plain": [
       "<matplotlib.figure.Figure at 0x16ce4bacac8>"
      ]
     },
     "metadata": {},
     "output_type": "display_data"
    },
    {
     "data": {
      "image/png": "[encoded data removed]",
      "text/plain": [
       "<matplotlib.figure.Figure at 0x16ce4bc8400>"
      ]
     },
     "metadata": {},
     "output_type": "display_data"
    }
   ],
   "source": [
    "import matplotlib.pyplot as plt \n",
    "df.temperature.hist()\n",
    "plt.xlabel('Temperature')\n",
    "plt.ylabel('Frequency')\n",
    "plt.show()\n",
    "\n",
    "df.heart_rate.hist()\n",
    "plt.xlabel('Heart Rate')\n",
    "plt.ylabel('Frequency')\n",
    "plt.show()"
   ]
  },
  {
   "cell_type": "code",
   "execution_count": 20,
   "metadata": {},
   "outputs": [
    {
     "data": {
      "text/plain": [
       "gender\n",
       "F    65\n",
       "M    65\n",
       "dtype: int64"
      ]
     },
     "execution_count": 20,
     "metadata": {},
     "output_type": "execute_result"
    }
   ],
   "source": [
    "df.groupby('gender').size()"
   ]
  },
  {
   "cell_type": "code",
   "execution_count": 21,
   "metadata": {},
   "outputs": [
    {
     "data": {
      "text/plain": [
       "NormaltestResult(statistic=2.703801433319203, pvalue=0.2587479863488254)"
      ]
     },
     "execution_count": 21,
     "metadata": {},
     "output_type": "execute_result"
    }
   ],
   "source": [
    "import scipy.stats as stats\n",
    "stats.normaltest(df.temperature)\n",
    "# since the value of p is 0.258, we cannot reject the null hypothesis that is that the data is normal.  "
   ]
  },
  {
   "cell_type": "code",
   "execution_count": 22,
   "metadata": {},
   "outputs": [
    {
     "data": {
      "image/png": "[encoded data removed]",
      "text/plain": [
       "<matplotlib.figure.Figure at 0x16ce4c97ef0>"
      ]
     },
     "metadata": {},
     "output_type": "display_data"
    }
   ],
   "source": [
    "# Quantile-Quantile Plot\n",
    "from statsmodels.graphics.gofplots import qqplot\n",
    "from matplotlib import pyplot\n",
    "\n",
    "# q-q plot\n",
    "qqplot(df.temperature, line='s')\n",
    "pyplot.show()"
   ]
  },
  {
   "cell_type": "code",
   "execution_count": 23,
   "metadata": {},
   "outputs": [
    {
     "data": {
      "image/png": "[encoded data removed]",
      "text/plain": [
       "<matplotlib.figure.Figure at 0x16ce4cefc18>"
      ]
     },
     "metadata": {},
     "output_type": "display_data"
    }
   ],
   "source": [
    "# CDF \n",
    "import numpy as np\n",
    "import matplotlib.pyplot as plt\n",
    "\n",
    "def cdf(data):\n",
    "    # Number of data points: n\n",
    "    n = len(data)\n",
    "\n",
    "    # x-data for the CDF: x\n",
    "    x = np.sort(data)\n",
    "\n",
    "    # y-data for the CDF: y\n",
    "    y = np.arange(1, n+1) / n\n",
    "\n",
    "    return x, y\n",
    "\n",
    "# Sample mean/std\n",
    "mean = np.mean(df.temperature)\n",
    "std  = np.std(df.temperature)\n",
    "# Sampleing the normal distribution with above mean and std\n",
    "normal = np.random.normal(mean, std, 10000)\n",
    "# CDF of the sample and theoretical distributions\n",
    "x, y = cdf(df.temperature)\n",
    "x_norm, y_norm = cdf(normal)\n",
    "# Plot\n",
    "plt.plot(x_norm, y_norm)\n",
    "plt.plot(x, y, marker='*', ls='none')\n",
    "plt.xlabel('Tempature')\n",
    "plt.ylabel('CDF')\n",
    "plt.show()\n",
    "# From graph below for CDF along with P- test and q-q test, its safe to say temperature data is normally distributed."
   ]
  },
  {
   "cell_type": "code",
   "execution_count": 24,
   "metadata": {},
   "outputs": [],
   "source": [
    "# Question 2\n",
    "# Asnwer: Yes the sample size is large enough because the usual threshold for sample size is 30 and we have 130 observation. \n",
    "# Also for sample being independent, it is safe to assume it was different people."
   ]
  },
  {
   "cell_type": "code",
   "execution_count": 25,
   "metadata": {},
   "outputs": [
    {
     "data": {
      "text/plain": [
       "98.24923076923075"
      ]
     },
     "execution_count": 25,
     "metadata": {},
     "output_type": "execute_result"
    }
   ],
   "source": [
    "df_temp_means = np.empty(1000)\n",
    "\n",
    "for i in range(1000):\n",
    "    sample_temp=np.random.choice(df.temperature,size=130)\n",
    "    df_temp_means[i]=np.mean(df.temperature)\n",
    "    \n",
    "np.mean(df_temp_means)"
   ]
  },
  {
   "cell_type": "markdown",
   "metadata": {},
   "source": [
    "We would use one-sample test because the sample set is to be tested against population mean and there is one population for the mean . Z-Test would have been appropraite but we dont have the variance for the population. So, t-test will be more appropriate here. "
   ]
  },
  {
   "cell_type": "code",
   "execution_count": 26,
   "metadata": {},
   "outputs": [
    {
     "data": {
      "text/plain": [
       "Ttest_1sampResult(statistic=-5.4548232923645195, pvalue=2.4106320415561276e-07)"
      ]
     },
     "execution_count": 26,
     "metadata": {},
     "output_type": "execute_result"
    }
   ],
   "source": [
    "# Question 3\n",
    "# Is the true population mean really 98.6 degrees F?\n",
    "# First, try a bootstrap hypothesis test.\n",
    "# Now, let's try frequentist statistical testing. Would you use a one-sample or two-sample test? Why?\n",
    "# In this situation, is it appropriate to use the  tt  or  zz  statistic?\n",
    "# Now try using the other test. How is the result be different? Why?\n",
    "# T-test\n",
    "stats.ttest_1samp(df.temperature, 98.6)"
   ]
  },
  {
   "cell_type": "code",
   "execution_count": 27,
   "metadata": {},
   "outputs": [
    {
     "name": "stdout",
     "output_type": "stream",
     "text": [
      "t-score: -5.454823292364301\n",
      "p-value: 2.4106320415585427e-07\n"
     ]
    }
   ],
   "source": [
    "# Since the p-value is really small, T-test proves that our mean temperature is not 98.6 F\n",
    "# Now lets try the t-test manually and compare with scipy.stats function\n",
    "ordered_temps = df.temperature.sort_values()\n",
    "import scipy.stats \n",
    "sample_mean = ordered_temps.mean()\n",
    "pop_mean = 98.6\n",
    "sample_std = ordered_temps.std()\n",
    "sample_size = len(ordered_temps)\n",
    "\n",
    "# calculate t-score\n",
    "t_score = (sample_mean - pop_mean)/(sample_std/np.sqrt(sample_size))\n",
    "\n",
    "# calculate p-value\n",
    "pvalue = scipy.stats.t.sf(np.abs(t_score), sample_size-1)*2\n",
    "\n",
    "print(\"t-score: \" + str(t_score) + \"\\np-value: \" + str(pvalue))"
   ]
  },
  {
   "cell_type": "code",
   "execution_count": 28,
   "metadata": {},
   "outputs": [
    {
     "name": "stdout",
     "output_type": "stream",
     "text": [
      "z-score: -0.4784196512470882\n",
      "p-value: 0.6323515496610721\n"
     ]
    }
   ],
   "source": [
    "# Lets try z-test now\n",
    "import scipy.stats \n",
    "z_score = (sample_mean - pop_mean)/(sample_std)\n",
    "\n",
    "# calculate p-value\n",
    "pvalue_z = scipy.stats.norm.sf(abs(z_score))*2\n",
    "\n",
    "print(\"z-score: \" + str(z_score) + \"\\np-value: \" + str(pvalue_z))"
   ]
  },
  {
   "cell_type": "markdown",
   "metadata": {},
   "source": [
    "The z-statistics is showing that we should not reject our null hypothesis which is that sample mean is equal to population mean. It gives a different answer from T-statistic. However, T-test is more approriate here and the result of t-test are chosen. "
   ]
  },
  {
   "cell_type": "code",
   "execution_count": 29,
   "metadata": {},
   "outputs": [],
   "source": [
    "# Question 4\n",
    "# Draw a small sample of size 10 from the data and repeat both frequentist tests.\n",
    "# Which one is the correct one to use?\n",
    "# What do you notice? What does this tell you about the difference in application of the  tt  and  zz  statistic?"
   ]
  },
  {
   "cell_type": "code",
   "execution_count": 32,
   "metadata": {},
   "outputs": [
    {
     "name": "stdout",
     "output_type": "stream",
     "text": [
      "z-score: 0.3420280840056016\n",
      "p_value_z: 0.732329757435594\n",
      "t-score: Ttest_1sampResult(statistic=-0.4532984139115999, pvalue=0.6610651472123368)\n"
     ]
    }
   ],
   "source": [
    "# take a random sample of 10 data points\n",
    "sample = np.random.choice(ordered_temps, size=10)\n",
    "\n",
    "# assign values needed for formulas\n",
    "mu = ordered_temps.mean()\n",
    "std = ordered_temps.std()\n",
    "mean_10 = sample.mean()\n",
    "std_10 = sample.std()\n",
    "\n",
    "# calculate z- and t-scores\n",
    "z_10 = (mean_10 - mu)/(std)\n",
    "p_value_z10=scipy.stats.norm.sf(abs(z_10))*2\n",
    "#t_10 = (mean_10 - mu)/(std/np.sqrt(10))\n",
    "t_10=scipy.stats.ttest_1samp(sample,98.6)\n",
    "\n",
    "print(\"z-score: \" + str(z_10) + \"\\np_value_z: \" + str(p_value_z10) + \"\\nt-score: \" + str(t_10) )"
   ]
  },
  {
   "cell_type": "code",
   "execution_count": 52,
   "metadata": {},
   "outputs": [
    {
     "name": "stdout",
     "output_type": "stream",
     "text": [
      "95% confidence Interval for Bootstrap: (96.81775582674824, 99.68070571171332)\n",
      "95% confidence interval for Frequentist: (96.81775582674824, 99.68070571171332) \n"
     ]
    }
   ],
   "source": [
    "# Question 5\n",
    "# At what temperature should we consider someone's temperature to be \"abnormal\"?\n",
    "# As in the previous example, try calculating everything using the boostrap approach, as well as the frequentist approach.\n",
    "# Start by computing the margin of error and confidence interval. \n",
    "# When calculating the confidence interval, keep in mind that you should use the appropriate formula for one draw, \n",
    "# and not N draws.\n",
    "\n",
    "# sample mean and standard deviation for use with bootstrap and frequentist approaches below\n",
    "x_bar = np.mean(df.temperature)\n",
    "s = np.std(df.temperature)\n",
    "\n",
    "# Bootstrap Approach \n",
    "temp_means = np.empty(1000)\n",
    "\n",
    "for i in range(1000):\n",
    "    samp_temp=np.random.choice(df.temperature,size=130)\n",
    "    temp_means[i]=np.mean(df.temperature)\n",
    "s=np.std(df.temperature)    \n",
    "ci = scipy.stats.norm.interval(0.95, loc=x_bar, scale=s)\n",
    "print(\"95% confidence Interval for Bootstrap: \" + str(ci))\n",
    "\n",
    "# frequentist approach - confidence interval for the one-sample t-test\n",
    "\n",
    "# alpha = 0.05, confidence coefficient = 95%\n",
    "\n",
    "# confidence interval for one draw\n",
    "ci_low_f, ci_high_f = stats.norm.interval(0.95, loc=x_bar, scale=s)\n",
    "print('95% confidence interval for Frequentist: ({:}, {:}) '.format(ci_low_f, ci_high_f))"
   ]
  },
  {
   "cell_type": "markdown",
   "metadata": {},
   "source": [
    "Both approaches gave the same 95% confidence interval and above or below these temperatures would be considered abnormal. "
   ]
  },
  {
   "cell_type": "code",
   "execution_count": 54,
   "metadata": {},
   "outputs": [
    {
     "name": "stdout",
     "output_type": "stream",
     "text": [
      "Male Temp. Mean:  98.1046153846154 Male Temp. St. Dev.:  0.6933598841828696 Male Temp. Median:  98.1 \n",
      "Female Temp. Mean:  98.39384615384613 Female Temp. St. Dev.:  0.7377464486428966 Female Temp. Median:  98.4\n"
     ]
    },
    {
     "data": {
      "image/png": "[encoded data removed]",
      "text/plain": [
       "<matplotlib.figure.Figure at 0x16ce4b6b7b8>"
      ]
     },
     "metadata": {},
     "output_type": "display_data"
    }
   ],
   "source": [
    "# Question 6 \n",
    "# Is there a significant difference between males and females in normal temperature?\n",
    "# What testing approach did you use and why?\n",
    "# Write a story with your conclusion in the context of the original problem.\n",
    "\n",
    "\n",
    "# split up data by gender\n",
    "df_male = df[df['gender']=='M']\n",
    "df_female = df[df['gender']=='F']\n",
    "\n",
    "# prepare for creating best fit lines\n",
    "temps = [96, 97, 98, 99, 100, 101]\n",
    "male_line = np.empty(6)\n",
    "female_line = np.empty(6)\n",
    "\n",
    "# find slope and intercept for male and female data\n",
    "slope_male, intercept_male = np.polyfit(df_male['temperature'], df_male['heart_rate'], 1)\n",
    "slope_female, intercept_female = np.polyfit(df_female['temperature'], df_female['heart_rate'], 1)\n",
    "\n",
    "# create y values for temps in range 96 - 101\n",
    "for i in range(6):\n",
    "    male_line[i] = (slope_male * temps[i]) + intercept_male\n",
    "    female_line[i] = (slope_female * temps[i]) + intercept_female\n",
    "\n",
    "# plot both males and females on same plot\n",
    "_ = plt.plot(df_male['temperature'], df_male['heart_rate'], color='blue', marker='.', linestyle='none')\n",
    "_ = plt.plot(df_female['temperature'], df_female['heart_rate'], color='red', marker='.', linestyle='none')\n",
    "\n",
    "# plot best fit lines\n",
    "_ = plt.plot(temps, male_line, color='blue', alpha=0.5)\n",
    "_ = plt.plot(temps, female_line, color='red', alpha=0.5)\n",
    "\n",
    "# label axes\n",
    "plt.legend(('Male', 'Female'), loc='lower right')\n",
    "_ = plt.xlabel('Temperature (F)')\n",
    "_ = plt.ylabel('Heart Rate (bpm)')\n",
    "\n",
    "\n",
    "\n",
    "print(\"Male Temp. Mean: \", np.mean(df_male['temperature']), \"Male Temp. St. Dev.: \", np.std(df_male['temperature']), \n",
    "      \"Male Temp. Median: \", np.median(df_male['temperature']),\n",
    "      \"\\nFemale Temp. Mean: \", np.mean(df_female['temperature']), \"Female Temp. St. Dev.: \", np.std(df_female['temperature']),\n",
    "      \"Female Temp. Median: \", np.median(df_female['temperature']))"
   ]
  },
  {
   "cell_type": "markdown",
   "metadata": {},
   "source": [
    "After plotting the data and checking the mean, median, and st.dev. of both males and females, it seems females are just a tad bit higher on average, with a slightly larger range as well. Overall, I would say that the data suggests that females experience slightly higher body temperatures, and even faster heart rates."
   ]
  },
  {
   "cell_type": "code",
   "execution_count": null,
   "metadata": {},
   "outputs": [],
   "source": []
  }
 ],
 "metadata": {
  "kernelspec": {
   "display_name": "Python 3",
   "language": "python",
   "name": "python3"
  }
 },
 "nbformat": 4,
 "nbformat_minor": 1
}
