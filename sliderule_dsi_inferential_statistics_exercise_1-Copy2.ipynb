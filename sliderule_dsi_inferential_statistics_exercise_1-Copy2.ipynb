{
 "cells": [
  {
   "cell_type": "markdown",
   "metadata": {},
   "source": [
    "# What is the True Normal Human Body Temperature? \n",
    "\n",
    "#### Background\n",
    "\n",
    "The mean normal body temperature was held to be 37$^{\\circ}$C or 98.6$^{\\circ}$F for more than 120 years since it was first conceptualized and reported by Carl Wunderlich in a famous 1868 book. But, is this value statistically correct?"
   ]
  },
  {
   "cell_type": "markdown",
   "metadata": {},
   "source": [
    "<h3>Exercises</h3>\n",
    "\n",
    "<p>In this exercise, you will analyze a dataset of human body temperatures and employ the concepts of hypothesis testing, confidence intervals, and statistical significance.</p>\n",
    "\n",
    "<p>Answer the following questions <b>in this notebook below and submit to your Github account</b>.</p> \n",
    "\n",
    "<ol>\n",
    "<li>  Is the distribution of body temperatures normal? \n",
    "    <ul>\n",
    "    <li> Although this is not a requirement for the Central Limit Theorem to hold (read the introduction on Wikipedia's page about the CLT carefully: https://en.wikipedia.org/wiki/Central_limit_theorem), it gives us some peace of mind that the population may also be normally distributed if we assume that this sample is representative of the population.\n",
    "    <li> Think about the way you're going to check for the normality of the distribution. Graphical methods are usually used first, but there are also other ways: https://en.wikipedia.org/wiki/Normality_test\n",
    "    </ul>\n",
    "<li>  Is the sample size large? Are the observations independent?\n",
    "    <ul>\n",
    "    <li> Remember that this is a condition for the Central Limit Theorem, and hence the statistical tests we are using, to apply.\n",
    "    </ul>\n",
    "<li>  Is the true population mean really 98.6 degrees F?\n",
    "    <ul>\n",
    "    <li> First, try a bootstrap hypothesis test.\n",
    "    <li> Now, let's try frequentist statistical testing. Would you use a one-sample or two-sample test? Why?\n",
    "    <li> In this situation, is it appropriate to use the $t$ or $z$ statistic? \n",
    "    <li> Now try using the other test. How is the result be different? Why?\n",
    "    </ul>\n",
    "<li>  Draw a small sample of size 10 from the data and repeat both frequentist tests. \n",
    "    <ul>\n",
    "    <li> Which one is the correct one to use? \n",
    "    <li> What do you notice? What does this tell you about the difference in application of the $t$ and $z$ statistic?\n",
    "    </ul>\n",
    "<li>  At what temperature should we consider someone's temperature to be \"abnormal\"?\n",
    "    <ul>\n",
    "    <li> As in the previous example, try calculating everything using the boostrap approach, as well as the frequentist approach.\n",
    "    <li> Start by computing the margin of error and confidence interval. When calculating the confidence interval, keep in mind that you should use the appropriate formula for one draw, and not N draws.\n",
    "    </ul>\n",
    "<li>  Is there a significant difference between males and females in normal temperature?\n",
    "    <ul>\n",
    "    <li> What testing approach did you use and why?\n",
    "    <li> Write a story with your conclusion in the context of the original problem.\n",
    "    </ul>\n",
    "</ol>\n",
    "\n",
    "You can include written notes in notebook cells using Markdown: \n",
    "   - In the control panel at the top, choose Cell > Cell Type > Markdown\n",
    "   - Markdown syntax: http://nestacms.com/docs/creating-content/markdown-cheat-sheet\n",
    "\n",
    "#### Resources\n",
    "\n",
    "+ Information and data sources: http://www.amstat.org/publications/jse/datasets/normtemp.txt, http://www.amstat.org/publications/jse/jse_data_archive.htm\n",
    "+ Markdown syntax: http://nestacms.com/docs/creating-content/markdown-cheat-sheet\n",
    "\n",
    "****"
   ]
  },
  {
   "cell_type": "code",
   "execution_count": 4,
   "metadata": {},
   "outputs": [
    {
     "data": {
      "text/html": [
       "<div>\n",
       "<style scoped>\n",
       "    .dataframe tbody tr th:only-of-type {\n",
       "        vertical-align: middle;\n",
       "    }\n",
       "\n",
       "    .dataframe tbody tr th {\n",
       "        vertical-align: top;\n",
       "    }\n",
       "\n",
       "    .dataframe thead th {\n",
       "        text-align: right;\n",
       "    }\n",
       "</style>\n",
       "<table border=\"1\" class=\"dataframe\">\n",
       "  <thead>\n",
       "    <tr style=\"text-align: right;\">\n",
       "      <th></th>\n",
       "      <th>temperature</th>\n",
       "      <th>gender</th>\n",
       "      <th>heart_rate</th>\n",
       "    </tr>\n",
       "  </thead>\n",
       "  <tbody>\n",
       "    <tr>\n",
       "      <th>0</th>\n",
       "      <td>99.3</td>\n",
       "      <td>F</td>\n",
       "      <td>68.0</td>\n",
       "    </tr>\n",
       "    <tr>\n",
       "      <th>1</th>\n",
       "      <td>98.4</td>\n",
       "      <td>F</td>\n",
       "      <td>81.0</td>\n",
       "    </tr>\n",
       "    <tr>\n",
       "      <th>2</th>\n",
       "      <td>97.8</td>\n",
       "      <td>M</td>\n",
       "      <td>73.0</td>\n",
       "    </tr>\n",
       "    <tr>\n",
       "      <th>3</th>\n",
       "      <td>99.2</td>\n",
       "      <td>F</td>\n",
       "      <td>66.0</td>\n",
       "    </tr>\n",
       "    <tr>\n",
       "      <th>4</th>\n",
       "      <td>98.0</td>\n",
       "      <td>F</td>\n",
       "      <td>73.0</td>\n",
       "    </tr>\n",
       "  </tbody>\n",
       "</table>\n",
       "</div>"
      ],
      "text/plain": [
       "   temperature gender  heart_rate\n",
       "0         99.3      F        68.0\n",
       "1         98.4      F        81.0\n",
       "2         97.8      M        73.0\n",
       "3         99.2      F        66.0\n",
       "4         98.0      F        73.0"
      ]
     },
     "execution_count": 4,
     "metadata": {},
     "output_type": "execute_result"
    }
   ],
   "source": [
    "import pandas as pd\n",
    "import scipy.stats as stats \n",
    "\n",
    "df = pd.read_csv('data/human_body_temperature.csv')\n",
    "df.head(5)"
   ]
  },
  {
   "cell_type": "code",
   "execution_count": 5,
   "metadata": {},
   "outputs": [
    {
     "data": {
      "text/html": [
       "<div>\n",
       "<style scoped>\n",
       "    .dataframe tbody tr th:only-of-type {\n",
       "        vertical-align: middle;\n",
       "    }\n",
       "\n",
       "    .dataframe tbody tr th {\n",
       "        vertical-align: top;\n",
       "    }\n",
       "\n",
       "    .dataframe thead th {\n",
       "        text-align: right;\n",
       "    }\n",
       "</style>\n",
       "<table border=\"1\" class=\"dataframe\">\n",
       "  <thead>\n",
       "    <tr style=\"text-align: right;\">\n",
       "      <th></th>\n",
       "      <th>temperature</th>\n",
       "      <th>heart_rate</th>\n",
       "    </tr>\n",
       "  </thead>\n",
       "  <tbody>\n",
       "    <tr>\n",
       "      <th>count</th>\n",
       "      <td>130.000000</td>\n",
       "      <td>130.000000</td>\n",
       "    </tr>\n",
       "    <tr>\n",
       "      <th>mean</th>\n",
       "      <td>98.249231</td>\n",
       "      <td>73.761538</td>\n",
       "    </tr>\n",
       "    <tr>\n",
       "      <th>std</th>\n",
       "      <td>0.733183</td>\n",
       "      <td>7.062077</td>\n",
       "    </tr>\n",
       "    <tr>\n",
       "      <th>min</th>\n",
       "      <td>96.300000</td>\n",
       "      <td>57.000000</td>\n",
       "    </tr>\n",
       "    <tr>\n",
       "      <th>25%</th>\n",
       "      <td>97.800000</td>\n",
       "      <td>69.000000</td>\n",
       "    </tr>\n",
       "    <tr>\n",
       "      <th>50%</th>\n",
       "      <td>98.300000</td>\n",
       "      <td>74.000000</td>\n",
       "    </tr>\n",
       "    <tr>\n",
       "      <th>75%</th>\n",
       "      <td>98.700000</td>\n",
       "      <td>79.000000</td>\n",
       "    </tr>\n",
       "    <tr>\n",
       "      <th>max</th>\n",
       "      <td>100.800000</td>\n",
       "      <td>89.000000</td>\n",
       "    </tr>\n",
       "  </tbody>\n",
       "</table>\n",
       "</div>"
      ],
      "text/plain": [
       "       temperature  heart_rate\n",
       "count   130.000000  130.000000\n",
       "mean     98.249231   73.761538\n",
       "std       0.733183    7.062077\n",
       "min      96.300000   57.000000\n",
       "25%      97.800000   69.000000\n",
       "50%      98.300000   74.000000\n",
       "75%      98.700000   79.000000\n",
       "max     100.800000   89.000000"
      ]
     },
     "execution_count": 5,
     "metadata": {},
     "output_type": "execute_result"
    }
   ],
   "source": [
    "df.describe()"
   ]
  },
  {
   "cell_type": "code",
   "execution_count": 6,
   "metadata": {},
   "outputs": [
    {
     "data": {
      "text/plain": [
       "<matplotlib.figure.Figure at 0x22469148ba8>"
      ]
     },
     "metadata": {},
     "output_type": "display_data"
    },
    {
     "data": {
      "text/plain": [
       "<matplotlib.figure.Figure at 0x22469beabe0>"
      ]
     },
     "metadata": {},
     "output_type": "display_data"
    }
   ],
   "source": [
    "import matplotlib.pyplot as plt \n",
    "df.temperature.hist()\n",
    "plt.xlabel('Temperature')\n",
    "plt.ylabel('Frequency')\n",
    "plt.show()\n",
    "\n",
    "df.heart_rate.hist()\n",
    "plt.xlabel('Heart Rate')\n",
    "plt.ylabel('Frequency')\n",
    "plt.show()"
   ]
  },
  {
   "cell_type": "code",
   "execution_count": 7,
   "metadata": {},
   "outputs": [
    {
     "data": {
      "text/plain": [
       "gender\n",
       "F    65\n",
       "M    65\n",
       "dtype: int64"
      ]
     },
     "execution_count": 7,
     "metadata": {},
     "output_type": "execute_result"
    }
   ],
   "source": [
    "df.groupby('gender').size()"
   ]
  },
  {
   "cell_type": "code",
   "execution_count": 8,
   "metadata": {},
   "outputs": [
    {
     "data": {
      "text/plain": [
       "NormaltestResult(statistic=2.703801433319203, pvalue=0.2587479863488254)"
      ]
     },
     "execution_count": 8,
     "metadata": {},
     "output_type": "execute_result"
    }
   ],
   "source": [
    "import scipy.stats as stats\n",
    "stats.normaltest(df.temperature)\n",
    "# since the value of p is 0.258, we cannot reject the null hypothesis that is that the data is normal.  "
   ]
  },
  {
   "cell_type": "code",
   "execution_count": 9,
   "metadata": {},
   "outputs": [
    {
     "data": {
      "image/png": "[encoded data removed]",
      "text/plain": [
       "<matplotlib.figure.Figure at 0x2246ae88d68>"
      ]
     },
     "metadata": {},
     "output_type": "display_data"
    }
   ],
   "source": [
    "# Quantile-Quantile Plot\n",
    "from statsmodels.graphics.gofplots import qqplot\n",
    "from matplotlib import pyplot\n",
    "\n",
    "# q-q plot\n",
    "qqplot(df.temperature, line='s')\n",
    "pyplot.show()"
   ]
  },
  {
   "cell_type": "code",
   "execution_count": 10,
   "metadata": {},
   "outputs": [
    {
     "data": {
      "image/png": "[encoded data removed]",
      "text/plain": [
       "<matplotlib.figure.Figure at 0x2246aeac4a8>"
      ]
     },
     "metadata": {},
     "output_type": "display_data"
    }
   ],
   "source": [
    "# CDF \n",
    "import numpy as np\n",
    "import matplotlib.pyplot as plt\n",
    "\n",
    "def cdf(data):\n",
    "    # Number of data points: n\n",
    "    n = len(data)\n",
    "\n",
    "    # x-data for the CDF: x\n",
    "    x = np.sort(data)\n",
    "\n",
    "    # y-data for the CDF: y\n",
    "    y = np.arange(1, n+1) / n\n",
    "\n",
    "    return x, y\n",
    "\n",
    "# Sample mean/std\n",
    "mean = np.mean(df.temperature)\n",
    "std  = np.std(df.temperature)\n",
    "# Sampleing the normal distribution with above mean and std\n",
    "normal = np.random.normal(mean, std, 10000)\n",
    "# CDF of the sample and theoretical distributions\n",
    "x, y = cdf(df.temperature)\n",
    "x_norm, y_norm = cdf(normal)\n",
    "# Plot\n",
    "plt.plot(x_norm, y_norm)\n",
    "plt.plot(x, y, marker='*', ls='none')\n",
    "plt.xlabel('Tempature')\n",
    "plt.ylabel('CDF')\n",
    "plt.show()\n",
    "# From graph below for CDF along with P- test and q-q test, its safe to say temperature data is normally distributed."
   ]
  },
  {
   "cell_type": "code",
   "execution_count": 11,
   "metadata": {},
   "outputs": [],
   "source": [
    "# Question 2\n",
    "# Asnwer: Yes the sample size is large enough because the usual threshold for sample size is 30 and we have 130 observation. \n",
    "# Also for sample being independent, it is safe to assume it was different people."
   ]
  },
  {
   "cell_type": "code",
   "execution_count": 12,
   "metadata": {},
   "outputs": [
    {
     "data": {
      "text/plain": [
       "98.24923076923075"
      ]
     },
     "execution_count": 12,
     "metadata": {},
     "output_type": "execute_result"
    }
   ],
   "source": [
    "df_temp_means = np.empty(1000)\n",
    "\n",
    "for i in range(1000):\n",
    "    sample_temp=np.random.choice(df.temperature,size=130)\n",
    "    df_temp_means[i]=np.mean(df.temperature)\n",
    "    \n",
    "np.mean(df_temp_means)"
   ]
  },
  {
   "cell_type": "markdown",
   "metadata": {},
   "source": [
    "We would use one-sample test because the sample set is to be tested against population mean and there is one population for the mean . Z-Test would have been appropraite but we dont have the variance for the population. So, t-test will be more appropriate here. "
   ]
  },
  {
   "cell_type": "code",
   "execution_count": 13,
   "metadata": {},
   "outputs": [
    {
     "data": {
      "text/plain": [
       "Ttest_1sampResult(statistic=-5.4548232923645195, pvalue=2.4106320415561276e-07)"
      ]
     },
     "execution_count": 13,
     "metadata": {},
     "output_type": "execute_result"
    }
   ],
   "source": [
    "# Question 3\n",
    "# Is the true population mean really 98.6 degrees F?\n",
    "# First, try a bootstrap hypothesis test.\n",
    "# Now, let's try frequentist statistical testing. Would you use a one-sample or two-sample test? Why?\n",
    "# In this situation, is it appropriate to use the  tt  or  zz  statistic?\n",
    "# Now try using the other test. How is the result be different? Why?\n",
    "# T-test\n",
    "stats.ttest_1samp(df.temperature, 98.6)"
   ]
  },
  {
   "cell_type": "code",
   "execution_count": 14,
   "metadata": {},
   "outputs": [
    {
     "name": "stdout",
     "output_type": "stream",
     "text": [
      "t-score: -5.454823292364301\n",
      "p-value: 2.4106320415585427e-07\n"
     ]
    }
   ],
   "source": [
    "# Since the p-value is really small, T-test proves that our mean temperature is not 98.6 F\n",
    "# Now lets try the t-test manually and compare with scipy.stats function\n",
    "ordered_temps = df.temperature.sort_values()\n",
    "import scipy.stats \n",
    "sample_mean = ordered_temps.mean()\n",
    "pop_mean = 98.6\n",
    "sample_std = ordered_temps.std()\n",
    "sample_size = len(ordered_temps)\n",
    "\n",
    "# calculate t-score\n",
    "t_score = (sample_mean - pop_mean)/(sample_std/np.sqrt(sample_size))\n",
    "\n",
    "# calculate p-value\n",
    "pvalue = scipy.stats.t.sf(np.abs(t_score), sample_size-1)*2\n",
    "\n",
    "print(\"t-score: \" + str(t_score) + \"\\np-value: \" + str(pvalue))"
   ]
  },
  {
   "cell_type": "code",
   "execution_count": 15,
   "metadata": {},
   "outputs": [
    {
     "name": "stdout",
     "output_type": "stream",
     "text": [
      "z-score: -0.4784196512470882\n",
      "p-value: 0.6323515496610721\n"
     ]
    }
   ],
   "source": [
    "# Lets try z-test now\n",
    "import scipy.stats \n",
    "z_score = (sample_mean - pop_mean)/(sample_std)\n",
    "\n",
    "# calculate p-value\n",
    "pvalue_z = scipy.stats.norm.sf(abs(z_score))*2\n",
    "\n",
    "print(\"z-score: \" + str(z_score) + \"\\np-value: \" + str(pvalue_z))"
   ]
  },
  {
   "cell_type": "markdown",
   "metadata": {},
   "source": [
    "The z-statistics is showing that we should not reject our null hypothesis which is that sample mean is equal to population mean. It gives a different answer from T-statistic. However, T-test is more approriate here and the result of t-test are chosen. "
   ]
  },
  {
   "cell_type": "code",
   "execution_count": 16,
   "metadata": {},
   "outputs": [],
   "source": [
    "# Question 4\n",
    "# Draw a small sample of size 10 from the data and repeat both frequentist tests.\n",
    "# Which one is the correct one to use?\n",
    "# What do you notice? What does this tell you about the difference in application of the  tt  and  zz  statistic?"
   ]
  },
  {
   "cell_type": "code",
   "execution_count": 17,
   "metadata": {},
   "outputs": [
    {
     "name": "stdout",
     "output_type": "stream",
     "text": [
      "z-score: 0.12380157641919584\n",
      "p_value_z: 0.9014723836163081\n",
      "t-score: Ttest_1sampResult(statistic=-1.6179926366078274, pvalue=0.1401181227441729)\n"
     ]
    }
   ],
   "source": [
    "# take a random sample of 10 data points\n",
    "sample = np.random.choice(ordered_temps, size=10)\n",
    "\n",
    "# assign values needed for formulas\n",
    "mu = ordered_temps.mean()\n",
    "std = ordered_temps.std()\n",
    "mean_10 = sample.mean()\n",
    "std_10 = sample.std()\n",
    "\n",
    "# calculate z- and t-scores\n",
    "z_10 = (mean_10 - mu)/(std)\n",
    "p_value_z10=scipy.stats.norm.sf(abs(z_10))*2\n",
    "#t_10 = (mean_10 - mu)/(std/np.sqrt(10))\n",
    "t_10=scipy.stats.ttest_1samp(sample,98.6)\n",
    "\n",
    "print(\"z-score: \" + str(z_10) + \"\\np_value_z: \" + str(p_value_z10) + \"\\nt-score: \" + str(t_10) )"
   ]
  },
  {
   "cell_type": "code",
   "execution_count": 18,
   "metadata": {},
   "outputs": [
    {
     "name": "stdout",
     "output_type": "stream",
     "text": [
      "95% confidence Interval for Bootstrap: (96.81775582674824, 99.68070571171332)\n",
      "95% confidence interval for Frequentist: (96.81775582674824, 99.68070571171332) \n"
     ]
    }
   ],
   "source": [
    "# Question 5\n",
    "# At what temperature should we consider someone's temperature to be \"abnormal\"?\n",
    "# As in the previous example, try calculating everything using the boostrap approach, as well as the frequentist approach.\n",
    "# Start by computing the margin of error and confidence interval. \n",
    "# When calculating the confidence interval, keep in mind that you should use the appropriate formula for one draw, \n",
    "# and not N draws.\n",
    "\n",
    "# sample mean and standard deviation for use with bootstrap and frequentist approaches below\n",
    "x_bar = np.mean(df.temperature)\n",
    "s = np.std(df.temperature)\n",
    "\n",
    "# Bootstrap Approach \n",
    "temp_means = np.empty(1000)\n",
    "\n",
    "for i in range(1000):\n",
    "    samp_temp=np.random.choice(df.temperature,size=130)\n",
    "    temp_means[i]=np.mean(df.temperature)\n",
    "s=np.std(df.temperature)    \n",
    "ci = scipy.stats.norm.interval(0.95, loc=x_bar, scale=s)\n",
    "print(\"95% confidence Interval for Bootstrap: \" + str(ci))\n",
    "\n",
    "# frequentist approach - confidence interval for the one-sample t-test\n",
    "\n",
    "# alpha = 0.05, confidence coefficient = 95%\n",
    "\n",
    "# confidence interval for one draw\n",
    "ci_low_f, ci_high_f = stats.norm.interval(0.95, loc=x_bar, scale=s)\n",
    "print('95% confidence interval for Frequentist: ({:}, {:}) '.format(ci_low_f, ci_high_f))"
   ]
  },
  {
   "cell_type": "markdown",
   "metadata": {},
   "source": [
    "Both approaches gave the same 95% confidence interval and above or below these temperatures would be considered abnormal. "
   ]
  },
  {
   "cell_type": "code",
   "execution_count": 19,
   "metadata": {},
   "outputs": [
    {
     "name": "stdout",
     "output_type": "stream",
     "text": [
      "Of the 130 participants, 65 are female and 65 are male.\n"
     ]
    }
   ],
   "source": [
    "# Question 6 \n",
    "# Is there a significant difference between males and females in normal temperature?\n",
    "# What testing approach did you use and why?\n",
    "# Write a story with your conclusion in the context of the original problem.\n",
    "\n",
    "\n",
    "males = df[df.gender == 'M']\n",
    "females = df[df.gender == 'F']\n",
    "\n",
    "print('Of the {} participants, {} are female and {} are male.'.format(len(males + females), len(females), len(males)))\n",
    "\n",
    "\n"
   ]
  },
  {
   "cell_type": "code",
   "execution_count": 22,
   "metadata": {},
   "outputs": [
    {
     "data": {
      "image/png": "[encoded data removed]",
      "text/plain": [
       "<matplotlib.figure.Figure at 0x2246af7c860>"
      ]
     },
     "metadata": {},
     "output_type": "display_data"
    }
   ],
   "source": [
    "# boxplot for visualizing temperature w.r.t. males and females\n",
    "import seaborn as sns\n",
    "sns.boxplot(x = 'gender', y = 'temperature', data=df)\n",
    "sns.set(rc={\"figure.figsize\": (12, 8)})\n",
    "plt.style.use('fivethirtyeight')\n",
    "\n",
    "plt.xlabel('Gender')\n",
    "plt.ylabel('Temp')\n",
    "plt.title('Fig. 6.1: Body Temp by Gender')\n",
    "\n",
    "plt.show();"
   ]
  },
  {
   "cell_type": "code",
   "execution_count": 25,
   "metadata": {},
   "outputs": [
    {
     "data": {
      "image/png": "[encoded data removed]",
      "text/plain": [
       "<matplotlib.figure.Figure at 0x2246ae88e10>"
      ]
     },
     "metadata": {},
     "output_type": "display_data"
    }
   ],
   "source": [
    "# Checking if samples normally distributed?\n",
    "sns.set(rc={\"figure.figsize\": (12, 8)})\n",
    "plt.style.use('fivethirtyeight')\n",
    "\n",
    "# Calculating the CDFs for males and females\n",
    "x_male, y_male = cdf(males.temperature)\n",
    "x_female, y_female = cdf(females.temperature)\n",
    "\n",
    "# Generate plot\n",
    "plt.plot(x_male, y_male, marker = '.', linestyle = 'none', color='b')\n",
    "plt.plot(x_female, y_female, marker='.', linestyle='none', color='r')\n",
    "\n",
    "# draw 100,000 random samples from a normal distribution\n",
    "m_norm_dist = np.random.normal(np.mean(males.temperature), np.std(males.temperature), 100000)\n",
    "mnd_x, mnd_y = cdf(m_norm_dist)\n",
    "plt.plot(mnd_x, mnd_y, color='b', alpha=0.5)\n",
    "\n",
    "# draw 100,000 random samples from a normal distribution\n",
    "f_norm_dist = np.random.normal(np.mean(females.temperature), np.std(females.temperature), 100000)\n",
    "fnd_x, fnd_y = cdf(f_norm_dist)\n",
    "plt.plot(fnd_x, fnd_y, color='r', alpha=0.5)\n",
    "\n",
    "# Make the margins nice\n",
    "plt.margins = 0.02\n",
    "\n",
    "# Label the axes\n",
    "plt.xlabel('Gender')\n",
    "plt.ylabel('CDF')\n",
    "plt.title('Fig. 6.2: CDFs of males v. females')\n",
    "plt.legend(('males', 'females'), loc='lower right', fontsize='large', markerscale=2)\n",
    "\n",
    "plt.show();"
   ]
  },
  {
   "cell_type": "code",
   "execution_count": 26,
   "metadata": {},
   "outputs": [],
   "source": [
    "# common variables\n",
    "temp_m = males.temperature\n",
    "temp_f = females.temperature"
   ]
  },
  {
   "cell_type": "code",
   "execution_count": 27,
   "metadata": {},
   "outputs": [
    {
     "name": "stdout",
     "output_type": "stream",
     "text": [
      "Male variance: 0.4807479289940825\n",
      "Female variance: 0.5442698224852062\n"
     ]
    }
   ],
   "source": [
    "# Check for identical variances\n",
    "mv = np.var(temp_m)\n",
    "fv = np.var(temp_f)\n",
    "\n",
    "print('Male variance: {}\\nFemale variance: {}'.format(mv, fv))"
   ]
  },
  {
   "cell_type": "code",
   "execution_count": 28,
   "metadata": {},
   "outputs": [
    {
     "name": "stdout",
     "output_type": "stream",
     "text": [
      "Bootstrap verification:\n",
      "Male variance: 0.4744482404733727\n",
      "Female variance: 0.5353292970414192\n"
     ]
    }
   ],
   "source": [
    "# confirm that variances are not equal with bootstrap - null hypothesis is that they are equal\n",
    "\n",
    "size = 10000\n",
    "\n",
    "bs_replicates_m = np.empty(size)\n",
    "\n",
    "for i in range(size):\n",
    "    bs_sample_m = np.random.choice(temp_m, len(temp_m))\n",
    "    bs_replicates_m[i] = np.var(bs_sample_m)\n",
    "    \n",
    "bs_var_m = np.sum(bs_replicates_m)/size\n",
    "\n",
    "bs_replicates_f = np.empty(size)\n",
    "\n",
    "for i in range(size):\n",
    "    bs_sample_f = np.random.choice(temp_f, len(temp_f))\n",
    "    bs_replicates_f[i] = np.var(bs_sample_f)\n",
    "\n",
    "bs_var_f = np.sum(bs_replicates_f)/size\n",
    "\n",
    "bs_var_m\n",
    "bs_var_f\n",
    "print('Bootstrap verification:\\nMale variance: {}\\nFemale variance: {}'.format(bs_var_m, bs_var_f))"
   ]
  },
  {
   "cell_type": "code",
   "execution_count": 29,
   "metadata": {},
   "outputs": [
    {
     "name": "stdout",
     "output_type": "stream",
     "text": [
      "t-statistic: -2.285\n",
      "p-value: 0.02394\n"
     ]
    }
   ],
   "source": [
    "# Variances are not identical, so set `equal_var` to false to perform Welch's t-test\n",
    "r = stats.ttest_ind(temp_m, temp_f, equal_var=False)\n",
    "print('t-statistic: {:0.4}\\np-value: {:0.4}'.format(r.statistic, r.pvalue))"
   ]
  },
  {
   "cell_type": "code",
   "execution_count": 30,
   "metadata": {},
   "outputs": [
    {
     "name": "stdout",
     "output_type": "stream",
     "text": [
      "MALES\n",
      "sample mean: 98.105\n",
      "sample standard deviation: 0.693\n",
      "\n",
      "95% confidence interval (one draw): 96.746 - 99.464\n",
      "\n",
      "\n",
      "FEMALES\n",
      "sample mean: 98.394\n",
      "sample standard deviation: 0.738\n",
      "\n",
      "95% confidence interval (one draw): 96.948 - 99.84\n"
     ]
    }
   ],
   "source": [
    "# males\n",
    "print('MALES')\n",
    "xbar_m = np.mean(temp_m)\n",
    "s_m = np.std(temp_m)\n",
    "print('sample mean: {}\\nsample standard deviation: {}\\n'.format(round(xbar_m, 3), round(s_m, 3)))\n",
    "\n",
    "# confidence interval for one draw\n",
    "ci_low_m, ci_high_m = stats.norm.interval(0.95, loc=xbar_m, scale=s_m)\n",
    "print('95% confidence interval (one draw): {} - {}'.format(round(ci_low_m, 3), round(ci_high_m, 3)))\n",
    "\n",
    "# females\n",
    "print('\\n\\nFEMALES')\n",
    "xbar_f = np.mean(temp_f)\n",
    "s_f = np.std(temp_f)\n",
    "print('sample mean: {}\\nsample standard deviation: {}\\n'.format(round(xbar_f, 3), round(s_f, 3)))\n",
    "\n",
    "# confidence interval for one draw\n",
    "ci_low_f, ci_high_f = stats.norm.interval(0.95, loc=xbar_f, scale=s_f)\n",
    "print('95% confidence interval (one draw): {} - {}'.format(round(ci_low_f, 3), round(ci_high_f, 3)))"
   ]
  },
  {
   "cell_type": "code",
   "execution_count": 31,
   "metadata": {},
   "outputs": [
    {
     "name": "stdout",
     "output_type": "stream",
     "text": [
      "Welch's t-test:\n",
      "t-statistic: 227.6\n",
      "p-value: 0.0\n"
     ]
    }
   ],
   "source": [
    "# bootstrap - two-sided Welch's t-test  \n",
    "size = 10000\n",
    "bs_replicates_m = np.empty(size)\n",
    "\n",
    "for i in range(size):\n",
    "    bs_sample_m = np.random.choice(temp_m, len(temp_m))\n",
    "    bs_replicates_m[i] = np.mean(bs_sample_m)\n",
    "    \n",
    "bs_mean_m = np.sum(bs_replicates_m)/size\n",
    "\n",
    "bs_replicates_f = np.empty(size)\n",
    "\n",
    "for i in range(size):\n",
    "    bs_sample_f = np.random.choice(temp_f, len(temp_f))\n",
    "    bs_replicates_f[i] = np.mean(bs_sample_f)\n",
    "\n",
    "bs_mean_f = np.sum(bs_replicates_f)/size\n",
    "\n",
    "\n",
    "result = stats.ttest_ind(bs_replicates_f, bs_replicates_m, equal_var=False)\n",
    "\n",
    "print('Welch\\'s t-test:\\nt-statistic: {:0.5}\\np-value: {:0.5}'.format(result[0], result[1]))"
   ]
  },
  {
   "cell_type": "markdown",
   "metadata": {},
   "source": [
    "Results: Overall from the boxplot we can see that females have a slightly higher body temperature then men. Frome our tests the mean human body temperature is not 98.6 degF but 98.25 degF. Also both samples follow normal distribution. "
   ]
  }
 ],
 "metadata": {
  "kernelspec": {
   "display_name": "Python 3",
   "language": "python",
   "name": "python3"
  },
  "language_info": {
   "codemirror_mode": {
    "name": "ipython",
    "version": 3
   },
   "file_extension": ".py",
   "mimetype": "text/x-python",
   "name": "python",
   "nbconvert_exporter": "python",
   "pygments_lexer": "ipython3",
   "version": "3.6.4"
  }
 },
 "nbformat": 4,
 "nbformat_minor": 1
}
