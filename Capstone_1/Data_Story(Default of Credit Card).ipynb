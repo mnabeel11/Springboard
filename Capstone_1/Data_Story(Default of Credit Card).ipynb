{
 "cells": [
  {
   "cell_type": "code",
   "execution_count": 1,
   "metadata": {},
   "outputs": [
    {
     "data": {
      "text/html": [
       "<div>\n",
       "<style scoped>\n",
       "    .dataframe tbody tr th:only-of-type {\n",
       "        vertical-align: middle;\n",
       "    }\n",
       "\n",
       "    .dataframe tbody tr th {\n",
       "        vertical-align: top;\n",
       "    }\n",
       "\n",
       "    .dataframe thead th {\n",
       "        text-align: right;\n",
       "    }\n",
       "</style>\n",
       "<table border=\"1\" class=\"dataframe\">\n",
       "  <thead>\n",
       "    <tr style=\"text-align: right;\">\n",
       "      <th></th>\n",
       "      <th>ID</th>\n",
       "      <th>LIMIT_BAL</th>\n",
       "      <th>SEX</th>\n",
       "      <th>EDUCATION</th>\n",
       "      <th>MARRIAGE</th>\n",
       "      <th>AGE</th>\n",
       "      <th>PAY_0</th>\n",
       "      <th>PAY_2</th>\n",
       "      <th>PAY_3</th>\n",
       "      <th>PAY_4</th>\n",
       "      <th>...</th>\n",
       "      <th>BILL_AMT4</th>\n",
       "      <th>BILL_AMT5</th>\n",
       "      <th>BILL_AMT6</th>\n",
       "      <th>PAY_AMT1</th>\n",
       "      <th>PAY_AMT2</th>\n",
       "      <th>PAY_AMT3</th>\n",
       "      <th>PAY_AMT4</th>\n",
       "      <th>PAY_AMT5</th>\n",
       "      <th>PAY_AMT6</th>\n",
       "      <th>default</th>\n",
       "    </tr>\n",
       "  </thead>\n",
       "  <tbody>\n",
       "    <tr>\n",
       "      <th>29990</th>\n",
       "      <td>29991</td>\n",
       "      <td>140000</td>\n",
       "      <td>1</td>\n",
       "      <td>2</td>\n",
       "      <td>1</td>\n",
       "      <td>41</td>\n",
       "      <td>0</td>\n",
       "      <td>0</td>\n",
       "      <td>0</td>\n",
       "      <td>0</td>\n",
       "      <td>...</td>\n",
       "      <td>138262</td>\n",
       "      <td>49675</td>\n",
       "      <td>46121</td>\n",
       "      <td>6000</td>\n",
       "      <td>7000</td>\n",
       "      <td>4228</td>\n",
       "      <td>1505</td>\n",
       "      <td>2000</td>\n",
       "      <td>2000</td>\n",
       "      <td>0</td>\n",
       "    </tr>\n",
       "    <tr>\n",
       "      <th>29991</th>\n",
       "      <td>29992</td>\n",
       "      <td>210000</td>\n",
       "      <td>1</td>\n",
       "      <td>2</td>\n",
       "      <td>1</td>\n",
       "      <td>34</td>\n",
       "      <td>3</td>\n",
       "      <td>2</td>\n",
       "      <td>2</td>\n",
       "      <td>2</td>\n",
       "      <td>...</td>\n",
       "      <td>2500</td>\n",
       "      <td>2500</td>\n",
       "      <td>2500</td>\n",
       "      <td>0</td>\n",
       "      <td>0</td>\n",
       "      <td>0</td>\n",
       "      <td>0</td>\n",
       "      <td>0</td>\n",
       "      <td>0</td>\n",
       "      <td>1</td>\n",
       "    </tr>\n",
       "    <tr>\n",
       "      <th>29992</th>\n",
       "      <td>29993</td>\n",
       "      <td>10000</td>\n",
       "      <td>1</td>\n",
       "      <td>3</td>\n",
       "      <td>1</td>\n",
       "      <td>43</td>\n",
       "      <td>0</td>\n",
       "      <td>0</td>\n",
       "      <td>0</td>\n",
       "      <td>-2</td>\n",
       "      <td>...</td>\n",
       "      <td>0</td>\n",
       "      <td>0</td>\n",
       "      <td>0</td>\n",
       "      <td>2000</td>\n",
       "      <td>0</td>\n",
       "      <td>0</td>\n",
       "      <td>0</td>\n",
       "      <td>0</td>\n",
       "      <td>0</td>\n",
       "      <td>0</td>\n",
       "    </tr>\n",
       "    <tr>\n",
       "      <th>29993</th>\n",
       "      <td>29994</td>\n",
       "      <td>100000</td>\n",
       "      <td>1</td>\n",
       "      <td>1</td>\n",
       "      <td>2</td>\n",
       "      <td>38</td>\n",
       "      <td>0</td>\n",
       "      <td>-1</td>\n",
       "      <td>-1</td>\n",
       "      <td>0</td>\n",
       "      <td>...</td>\n",
       "      <td>70626</td>\n",
       "      <td>69473</td>\n",
       "      <td>55004</td>\n",
       "      <td>2000</td>\n",
       "      <td>111784</td>\n",
       "      <td>4000</td>\n",
       "      <td>3000</td>\n",
       "      <td>2000</td>\n",
       "      <td>2000</td>\n",
       "      <td>0</td>\n",
       "    </tr>\n",
       "    <tr>\n",
       "      <th>29994</th>\n",
       "      <td>29995</td>\n",
       "      <td>80000</td>\n",
       "      <td>1</td>\n",
       "      <td>2</td>\n",
       "      <td>2</td>\n",
       "      <td>34</td>\n",
       "      <td>2</td>\n",
       "      <td>2</td>\n",
       "      <td>2</td>\n",
       "      <td>2</td>\n",
       "      <td>...</td>\n",
       "      <td>77519</td>\n",
       "      <td>82607</td>\n",
       "      <td>81158</td>\n",
       "      <td>7000</td>\n",
       "      <td>3500</td>\n",
       "      <td>0</td>\n",
       "      <td>7000</td>\n",
       "      <td>0</td>\n",
       "      <td>4000</td>\n",
       "      <td>1</td>\n",
       "    </tr>\n",
       "    <tr>\n",
       "      <th>29995</th>\n",
       "      <td>29996</td>\n",
       "      <td>220000</td>\n",
       "      <td>1</td>\n",
       "      <td>3</td>\n",
       "      <td>1</td>\n",
       "      <td>39</td>\n",
       "      <td>0</td>\n",
       "      <td>0</td>\n",
       "      <td>0</td>\n",
       "      <td>0</td>\n",
       "      <td>...</td>\n",
       "      <td>88004</td>\n",
       "      <td>31237</td>\n",
       "      <td>15980</td>\n",
       "      <td>8500</td>\n",
       "      <td>20000</td>\n",
       "      <td>5003</td>\n",
       "      <td>3047</td>\n",
       "      <td>5000</td>\n",
       "      <td>1000</td>\n",
       "      <td>0</td>\n",
       "    </tr>\n",
       "    <tr>\n",
       "      <th>29996</th>\n",
       "      <td>29997</td>\n",
       "      <td>150000</td>\n",
       "      <td>1</td>\n",
       "      <td>3</td>\n",
       "      <td>2</td>\n",
       "      <td>43</td>\n",
       "      <td>-1</td>\n",
       "      <td>-1</td>\n",
       "      <td>-1</td>\n",
       "      <td>-1</td>\n",
       "      <td>...</td>\n",
       "      <td>8979</td>\n",
       "      <td>5190</td>\n",
       "      <td>0</td>\n",
       "      <td>1837</td>\n",
       "      <td>3526</td>\n",
       "      <td>8998</td>\n",
       "      <td>129</td>\n",
       "      <td>0</td>\n",
       "      <td>0</td>\n",
       "      <td>0</td>\n",
       "    </tr>\n",
       "    <tr>\n",
       "      <th>29997</th>\n",
       "      <td>29998</td>\n",
       "      <td>30000</td>\n",
       "      <td>1</td>\n",
       "      <td>2</td>\n",
       "      <td>2</td>\n",
       "      <td>37</td>\n",
       "      <td>4</td>\n",
       "      <td>3</td>\n",
       "      <td>2</td>\n",
       "      <td>-1</td>\n",
       "      <td>...</td>\n",
       "      <td>20878</td>\n",
       "      <td>20582</td>\n",
       "      <td>19357</td>\n",
       "      <td>0</td>\n",
       "      <td>0</td>\n",
       "      <td>22000</td>\n",
       "      <td>4200</td>\n",
       "      <td>2000</td>\n",
       "      <td>3100</td>\n",
       "      <td>1</td>\n",
       "    </tr>\n",
       "    <tr>\n",
       "      <th>29998</th>\n",
       "      <td>29999</td>\n",
       "      <td>80000</td>\n",
       "      <td>1</td>\n",
       "      <td>3</td>\n",
       "      <td>1</td>\n",
       "      <td>41</td>\n",
       "      <td>1</td>\n",
       "      <td>-1</td>\n",
       "      <td>0</td>\n",
       "      <td>0</td>\n",
       "      <td>...</td>\n",
       "      <td>52774</td>\n",
       "      <td>11855</td>\n",
       "      <td>48944</td>\n",
       "      <td>85900</td>\n",
       "      <td>3409</td>\n",
       "      <td>1178</td>\n",
       "      <td>1926</td>\n",
       "      <td>52964</td>\n",
       "      <td>1804</td>\n",
       "      <td>1</td>\n",
       "    </tr>\n",
       "    <tr>\n",
       "      <th>29999</th>\n",
       "      <td>30000</td>\n",
       "      <td>50000</td>\n",
       "      <td>1</td>\n",
       "      <td>2</td>\n",
       "      <td>1</td>\n",
       "      <td>46</td>\n",
       "      <td>0</td>\n",
       "      <td>0</td>\n",
       "      <td>0</td>\n",
       "      <td>0</td>\n",
       "      <td>...</td>\n",
       "      <td>36535</td>\n",
       "      <td>32428</td>\n",
       "      <td>15313</td>\n",
       "      <td>2078</td>\n",
       "      <td>1800</td>\n",
       "      <td>1430</td>\n",
       "      <td>1000</td>\n",
       "      <td>1000</td>\n",
       "      <td>1000</td>\n",
       "      <td>1</td>\n",
       "    </tr>\n",
       "  </tbody>\n",
       "</table>\n",
       "<p>10 rows × 25 columns</p>\n",
       "</div>"
      ],
      "text/plain": [
       "          ID  LIMIT_BAL  SEX  EDUCATION  MARRIAGE  AGE  PAY_0  PAY_2  PAY_3  \\\n",
       "29990  29991     140000    1          2         1   41      0      0      0   \n",
       "29991  29992     210000    1          2         1   34      3      2      2   \n",
       "29992  29993      10000    1          3         1   43      0      0      0   \n",
       "29993  29994     100000    1          1         2   38      0     -1     -1   \n",
       "29994  29995      80000    1          2         2   34      2      2      2   \n",
       "29995  29996     220000    1          3         1   39      0      0      0   \n",
       "29996  29997     150000    1          3         2   43     -1     -1     -1   \n",
       "29997  29998      30000    1          2         2   37      4      3      2   \n",
       "29998  29999      80000    1          3         1   41      1     -1      0   \n",
       "29999  30000      50000    1          2         1   46      0      0      0   \n",
       "\n",
       "       PAY_4   ...     BILL_AMT4  BILL_AMT5  BILL_AMT6  PAY_AMT1  PAY_AMT2  \\\n",
       "29990      0   ...        138262      49675      46121      6000      7000   \n",
       "29991      2   ...          2500       2500       2500         0         0   \n",
       "29992     -2   ...             0          0          0      2000         0   \n",
       "29993      0   ...         70626      69473      55004      2000    111784   \n",
       "29994      2   ...         77519      82607      81158      7000      3500   \n",
       "29995      0   ...         88004      31237      15980      8500     20000   \n",
       "29996     -1   ...          8979       5190          0      1837      3526   \n",
       "29997     -1   ...         20878      20582      19357         0         0   \n",
       "29998      0   ...         52774      11855      48944     85900      3409   \n",
       "29999      0   ...         36535      32428      15313      2078      1800   \n",
       "\n",
       "       PAY_AMT3  PAY_AMT4  PAY_AMT5  PAY_AMT6  default  \n",
       "29990      4228      1505      2000      2000        0  \n",
       "29991         0         0         0         0        1  \n",
       "29992         0         0         0         0        0  \n",
       "29993      4000      3000      2000      2000        0  \n",
       "29994         0      7000         0      4000        1  \n",
       "29995      5003      3047      5000      1000        0  \n",
       "29996      8998       129         0         0        0  \n",
       "29997     22000      4200      2000      3100        1  \n",
       "29998      1178      1926     52964      1804        1  \n",
       "29999      1430      1000      1000      1000        1  \n",
       "\n",
       "[10 rows x 25 columns]"
      ]
     },
     "execution_count": 1,
     "metadata": {},
     "output_type": "execute_result"
    }
   ],
   "source": [
    "import pandas as pd\n",
    "import numpy as np\n",
    "import scipy.stats as stats\n",
    "import seaborn as sns\n",
    "import matplotlib.pyplot as plt\n",
    "dfs = pd.read_csv(\"D:\\Download_Ddrive\\default.csv\",skiprows=1)\n",
    "dfs=dfs.rename(index=str, columns={\"default payment next month\": \"default\"})\n",
    "dfs.tail(10)\n"
   ]
  },
  {
   "cell_type": "code",
   "execution_count": 2,
   "metadata": {},
   "outputs": [
    {
     "name": "stdout",
     "output_type": "stream",
     "text": [
      "<class 'pandas.core.frame.DataFrame'>\n",
      "Index: 30000 entries, 0 to 29999\n",
      "Data columns (total 25 columns):\n",
      "ID           30000 non-null int64\n",
      "LIMIT_BAL    30000 non-null int64\n",
      "SEX          30000 non-null int64\n",
      "EDUCATION    30000 non-null int64\n",
      "MARRIAGE     30000 non-null int64\n",
      "AGE          30000 non-null int64\n",
      "PAY_0        30000 non-null int64\n",
      "PAY_2        30000 non-null int64\n",
      "PAY_3        30000 non-null int64\n",
      "PAY_4        30000 non-null int64\n",
      "PAY_5        30000 non-null int64\n",
      "PAY_6        30000 non-null int64\n",
      "BILL_AMT1    30000 non-null int64\n",
      "BILL_AMT2    30000 non-null int64\n",
      "BILL_AMT3    30000 non-null int64\n",
      "BILL_AMT4    30000 non-null int64\n",
      "BILL_AMT5    30000 non-null int64\n",
      "BILL_AMT6    30000 non-null int64\n",
      "PAY_AMT1     30000 non-null int64\n",
      "PAY_AMT2     30000 non-null int64\n",
      "PAY_AMT3     30000 non-null int64\n",
      "PAY_AMT4     30000 non-null int64\n",
      "PAY_AMT5     30000 non-null int64\n",
      "PAY_AMT6     30000 non-null int64\n",
      "default      30000 non-null int64\n",
      "dtypes: int64(25)\n",
      "memory usage: 6.0+ MB\n"
     ]
    }
   ],
   "source": [
    "dfs.info()"
   ]
  },
  {
   "cell_type": "markdown",
   "metadata": {},
   "source": [
    "# Questions asked and investigated \n",
    "# 1. Is the proportion of defaults the same for men and women?\n"
   ]
  },
  {
   "cell_type": "code",
   "execution_count": 3,
   "metadata": {},
   "outputs": [
    {
     "name": "stdout",
     "output_type": "stream",
     "text": [
      "Proportion of male defaulters is: 0.2416722745625841\n",
      "Proportion of female defaulters is: 0.20776280918727916\n",
      "Total number of males in data: 11888\n",
      "Total number of females in data: 18112\n"
     ]
    }
   ],
   "source": [
    "dfs_m=dfs[dfs.SEX==1]\n",
    "dfs_f=dfs[dfs.SEX==2]\n",
    "dfs_m_def=dfs_m[dfs_m.default == 1].default.count()\n",
    "dfs_f_def=dfs_f[dfs_f.default == 1].default.count()\n",
    "def_m_prop=dfs_m_def/dfs_m.default.count()\n",
    "def_f_prop=dfs_f_def/dfs_f.default.count()\n",
    "print(\"Proportion of male defaulters is: \"+str(def_m_prop))\n",
    "print(\"Proportion of female defaulters is: \"+str(def_f_prop))\n",
    "total_num_m=dfs[dfs.SEX==1].SEX.count()\n",
    "total_num_f=dfs[dfs.SEX==2].SEX.count()\n",
    "print(\"Total number of males in data: \"+str(total_num_m))\n",
    "print(\"Total number of females in data: \"+str(total_num_f))"
   ]
  },
  {
   "cell_type": "code",
   "execution_count": 4,
   "metadata": {},
   "outputs": [
    {
     "data": {
      "image/png": "[encoded data removed]",
      "text/plain": [
       "<matplotlib.figure.Figure at 0x1c937be40f0>"
      ]
     },
     "metadata": {},
     "output_type": "display_data"
    }
   ],
   "source": [
    "range=[1,2]\n",
    "plt.bar(range,[total_num_m,total_num_f])\n",
    "plt.bar(range,[dfs_m_def,dfs_f_def])\n",
    "plt.xticks(range,[\"Male\",\"Female\"])\n",
    "plt.show()"
   ]
  },
  {
   "cell_type": "code",
   "execution_count": 5,
   "metadata": {},
   "outputs": [
    {
     "data": {
      "text/plain": [
       "ID           0\n",
       "LIMIT_BAL    0\n",
       "SEX          0\n",
       "EDUCATION    0\n",
       "MARRIAGE     0\n",
       "AGE          0\n",
       "PAY_0        0\n",
       "PAY_2        0\n",
       "PAY_3        0\n",
       "PAY_4        0\n",
       "PAY_5        0\n",
       "PAY_6        0\n",
       "BILL_AMT1    0\n",
       "BILL_AMT2    0\n",
       "BILL_AMT3    0\n",
       "BILL_AMT4    0\n",
       "BILL_AMT5    0\n",
       "BILL_AMT6    0\n",
       "PAY_AMT1     0\n",
       "PAY_AMT2     0\n",
       "PAY_AMT3     0\n",
       "PAY_AMT4     0\n",
       "PAY_AMT5     0\n",
       "PAY_AMT6     0\n",
       "default      0\n",
       "dtype: int64"
      ]
     },
     "execution_count": 5,
     "metadata": {},
     "output_type": "execute_result"
    }
   ],
   "source": [
    "# data wrangling to make any education value given above 4 to equals 4.\n",
    "dfs.loc[dfs.EDUCATION>4]=4\n",
    "dfs[dfs.EDUCATION>4].count()"
   ]
  },
  {
   "cell_type": "markdown",
   "metadata": {},
   "source": [
    "# 2. Does Education level matter for predicting default or not default ?"
   ]
  },
  {
   "cell_type": "code",
   "execution_count": 6,
   "metadata": {},
   "outputs": [
    {
     "data": {
      "image/png": "[encoded data removed]",
      "text/plain": [
       "<matplotlib.figure.Figure at 0x1c93c028400>"
      ]
     },
     "metadata": {},
     "output_type": "display_data"
    }
   ],
   "source": [
    "dfs_edu_1=dfs[dfs.EDUCATION ==1]\n",
    "dfs_edu_2=dfs[dfs.EDUCATION ==2]\n",
    "dfs_edu_3=dfs[dfs.EDUCATION ==3]\n",
    "dfs_edu_4=dfs[dfs.EDUCATION ==4]\n",
    "\n",
    "dfs_edu_def_1=dfs_edu_1[dfs_edu_1.default==1].default.count()\n",
    "dfs_edu_def_2=dfs_edu_2[dfs_edu_2.default==1].default.count()\n",
    "dfs_edu_def_3=dfs_edu_3[dfs_edu_3.default==1].default.count()\n",
    "dfs_edu_def_4=dfs_edu_4[dfs_edu_4.default==1].default.count()\n",
    "\n",
    "dfs_edu_1=dfs[dfs.EDUCATION ==1].EDUCATION.count()\n",
    "dfs_edu_2=dfs[dfs.EDUCATION ==2].EDUCATION.count()\n",
    "dfs_edu_3=dfs[dfs.EDUCATION ==3].EDUCATION.count()\n",
    "dfs_edu_4=dfs[dfs.EDUCATION ==4].EDUCATION.count()\n",
    "\n",
    "range=[1,2,3,4]\n",
    "plt.bar(range,[dfs_edu_1,dfs_edu_2,dfs_edu_3,dfs_edu_4])\n",
    "plt.bar(range,[dfs_edu_def_1,dfs_edu_def_2,dfs_edu_def_3,dfs_edu_def_4])\n",
    "plt.xticks(range,[\"Graduate\",\"University\",\"High School\",\"Others\"])\n",
    "plt.show()"
   ]
  },
  {
   "cell_type": "code",
   "execution_count": 15,
   "metadata": {},
   "outputs": [
    {
     "data": {
      "text/plain": [
       "0         NaN\n",
       "1    0.192420\n",
       "2    0.237379\n",
       "3    0.234500\n",
       "4    0.056911\n",
       "Name: EDUCATION, dtype: float64"
      ]
     },
     "execution_count": 15,
     "metadata": {},
     "output_type": "execute_result"
    }
   ],
   "source": [
    "education= dfs[\"EDUCATION\"]\n",
    "def_edu=dfs[\"EDUCATION\"][dfs.default==1]\n",
    "\n",
    "def_edu.value_counts()/education.value_counts()"
   ]
  },
  {
   "cell_type": "markdown",
   "metadata": {},
   "source": [
    "# DEFAULT BY EDUCATION\n",
    "# 1. GRADUATE defaulters are 19.24%.\n",
    "# 2. UNIVERSITY defaulters are 23.74%.\n",
    "# 3. HIGH SCHOOL defaulters are 23.45%.\n",
    "# 4. OTHER defaulters are 5.7%.\n",
    "# -------------------------------------------------------------------------"
   ]
  },
  {
   "cell_type": "markdown",
   "metadata": {},
   "source": [
    "# 3. Does credit card limit have a connection with being a defaulter or not ?"
   ]
  },
  {
   "cell_type": "code",
   "execution_count": 7,
   "metadata": {},
   "outputs": [
    {
     "data": {
      "image/png": "[encoded data removed]",
      "text/plain": [
       "<matplotlib.figure.Figure at 0x1c93b8e9198>"
      ]
     },
     "metadata": {},
     "output_type": "display_data"
    }
   ],
   "source": [
    "dfs['LIMIT_BAL'].plot(kind='hist')\n",
    "plt.xlabel('Credit Limit')\n",
    "plt.ylabel('Count')\n",
    "plt.show()"
   ]
  },
  {
   "cell_type": "code",
   "execution_count": 8,
   "metadata": {},
   "outputs": [
    {
     "data": {
      "image/png": "[encoded data removed]",
      "text/plain": [
       "<matplotlib.figure.Figure at 0x1c93bc21438>"
      ]
     },
     "metadata": {},
     "output_type": "display_data"
    }
   ],
   "source": [
    "# defining variables for credit limit and defaults by credit limit\n",
    "credit = dfs['LIMIT_BAL']\n",
    "def_by_cred = dfs['LIMIT_BAL'][dfs.default == 1]\n",
    "\n",
    "#plotting a histogram\n",
    "_ = plt.hist(credit, bins=15)\n",
    "_ = plt.hist(def_by_cred, bins=15)\n",
    "plt.title('Defaults by Credit Limit')\n",
    "plt.xlabel('Credit Limit')\n",
    "plt.ylabel('Count')\n",
    "plt.legend(('Population', 'Default'))\n",
    "plt.show()"
   ]
  },
  {
   "cell_type": "code",
   "execution_count": 54,
   "metadata": {},
   "outputs": [
    {
     "data": {
      "image/png": "[encoded data removed]",
      "text/plain": [
       "<matplotlib.figure.Figure at 0x1c93e8109e8>"
      ]
     },
     "metadata": {},
     "output_type": "display_data"
    },
    {
     "name": "stdout",
     "output_type": "stream",
     "text": [
      "Proportion of defualters from 0 limit balance to 200000: 0.25349018842136095\n",
      "Proportion of defualters from 200000 limit balance to 400000: 0.15480196738286306\n",
      "Proportion of defualters from 400000 limit balance to 600000: 0.12287887653598596\n",
      "Proportion of defualters from 600000 limit balance to 800000: 0.07692307692307693\n"
     ]
    }
   ],
   "source": [
    "def_200000=dfs[\"LIMIT_BAL\"][dfs.default==1][dfs.LIMIT_BAL<=200000].count()\n",
    "def_400000=dfs[\"LIMIT_BAL\"][dfs.default==1][dfs.LIMIT_BAL<=400000][dfs.LIMIT_BAL>200000].count()\n",
    "def_600000=dfs[\"LIMIT_BAL\"][dfs.default==1][dfs.LIMIT_BAL<=600000][dfs.LIMIT_BAL>400000].count()\n",
    "def_800000=dfs[\"LIMIT_BAL\"][dfs.default==1][dfs.LIMIT_BAL<=800000][dfs.LIMIT_BAL>600000].count()\n",
    "\n",
    "df_200000=dfs[\"LIMIT_BAL\"][dfs.LIMIT_BAL<=200000].count()\n",
    "df_400000=dfs[\"LIMIT_BAL\"][dfs.LIMIT_BAL<=400000][dfs.LIMIT_BAL>200000].count()\n",
    "df_600000=dfs[\"LIMIT_BAL\"][dfs.LIMIT_BAL<=600000][dfs.LIMIT_BAL>400000].count()\n",
    "df_800000=dfs[\"LIMIT_BAL\"][dfs.LIMIT_BAL<=800000][dfs.LIMIT_BAL>600000].count()\n",
    "\n",
    "range=[1,2,3,4]\n",
    "plt.bar(range,[df_200000,df_400000,df_600000,df_800000])\n",
    "plt.bar(range,[def_200000,def_400000,def_600000,def_800000])\n",
    "plt.xticks(range,[\"200000\",\"400000\",\"600000\",\"800000\"])\n",
    "plt.show()\n",
    "\n",
    "print(\"Proportion of defualters from 0 limit balance to 200000: \"+ str(def_200000/df_200000))\n",
    "print(\"Proportion of defualters from 200000 limit balance to 400000: \"+ str(def_400000/df_400000))\n",
    "print(\"Proportion of defualters from 400000 limit balance to 600000: \"+ str(def_600000/df_600000))\n",
    "print(\"Proportion of defualters from 600000 limit balance to 800000: \"+ str(def_800000/df_800000))"
   ]
  },
  {
   "cell_type": "markdown",
   "metadata": {},
   "source": [
    "# Proportion of defualters from 0 limit balance to 200000: 25.34%.\n",
    "# Proportion of defualters from 200000 limit balance to 400000: 15.48%.\n",
    "# Proportion of defualters from 400000 limit balance to 600000: 12.28%.\n",
    "# Proportion of defualters from 600000 limit balance to 800000: 7.69%."
   ]
  },
  {
   "cell_type": "markdown",
   "metadata": {},
   "source": [
    "# 4. Does Marital Status have anything to do with being a defaulter or not ?"
   ]
  },
  {
   "cell_type": "code",
   "execution_count": 12,
   "metadata": {},
   "outputs": [],
   "source": [
    "# Data wrangling values that are other than 1,2,3 to 3(which is labeled \"Other\") for the sake of simplicity.\n",
    "dfs.loc[dfs.MARRIAGE==0]=3\n",
    "dfs.loc[dfs.MARRIAGE==4]=3"
   ]
  },
  {
   "cell_type": "code",
   "execution_count": 13,
   "metadata": {},
   "outputs": [
    {
     "data": {
      "image/png": "[encoded data removed]",
      "text/plain": [
       "<matplotlib.figure.Figure at 0x1c93bc3ebe0>"
      ]
     },
     "metadata": {},
     "output_type": "display_data"
    }
   ],
   "source": [
    "def_by_ms = dfs[dfs.default == 1].MARRIAGE\n",
    "marital = dfs[\"MARRIAGE\"]\n",
    "\n",
    "_ = plt.hist(marital)\n",
    "_ = plt.hist(def_by_ms)\n",
    "plt.title('Defaults by Marrital Status')\n",
    "plt.xlabel('Marrital Status')\n",
    "plt.ylabel('Count')\n",
    "plt.legend(('Population', 'Default'))\n",
    "plt.xticks([1, 2, 3], ['Married', 'Single', 'Other'])\n",
    "plt.annotate('23.67%', xy=(1.1, 1800))\n",
    "plt.annotate('21.05%', xy=(2.1, 1800))\n",
    "plt.annotate('11.95%', xy=(2.9, 800))\n",
    "plt.show()"
   ]
  },
  {
   "cell_type": "code",
   "execution_count": 14,
   "metadata": {},
   "outputs": [
    {
     "data": {
      "text/plain": [
       "2    0.210483\n",
       "1    0.236778\n",
       "3    0.119488\n",
       "Name: MARRIAGE, dtype: float64"
      ]
     },
     "execution_count": 14,
     "metadata": {},
     "output_type": "execute_result"
    }
   ],
   "source": [
    "def_by_ms.value_counts() / marital.value_counts()"
   ]
  },
  {
   "cell_type": "markdown",
   "metadata": {},
   "source": [
    "# DEFAULT BY MARITAL STATUS\n",
    "# MARRIED  defaulters are 23.67 %.\n",
    "# SINGLE   defaulters are 21.05 %.\n",
    "# OTHER  defaulters are 11.95 %."
   ]
  },
  {
   "cell_type": "code",
   "execution_count": 146,
   "metadata": {},
   "outputs": [
    {
     "data": {
      "image/png": "[encoded data removed]",
      "text/plain": [
       "<matplotlib.figure.Figure at 0x1c94d0d9940>"
      ]
     },
     "metadata": {},
     "output_type": "display_data"
    }
   ],
   "source": [
    "age=dfs[\"AGE\"]\n",
    "def_age=dfs[\"AGE\"][dfs.default==1]\n",
    "\n",
    "_=plt.hist(age,bins=10)\n",
    "_=plt.hist(def_age,bins=10)\n",
    "\n"
   ]
  },
  {
   "cell_type": "code",
   "execution_count": 148,
   "metadata": {},
   "outputs": [
    {
     "data": {
      "text/plain": [
       "(0.15, 0.4)"
      ]
     },
     "execution_count": 148,
     "metadata": {},
     "output_type": "execute_result"
    },
    {
     "data": {
      "image/png": "[encoded data removed]",
      "text/plain": [
       "<matplotlib.figure.Figure at 0x1c950dd6be0>"
      ]
     },
     "metadata": {},
     "output_type": "display_data"
    }
   ],
   "source": [
    "perage_def=def_age.value_counts()/age.value_counts()\n",
    "plt.plot(perage_def)\n",
    "plt.title(\"Default Percentage vs. Age\")\n",
    "plt.xlabel(\"AGE\")\n",
    "plt.ylabel(\"Default Percentage\")\n",
    "plt.xlim(20,71)\n",
    "plt.ylim(0.15,0.4)"
   ]
  }
 ],
 "metadata": {
  "kernelspec": {
   "display_name": "Python 3",
   "language": "python",
   "name": "python3"
  },
  "language_info": {
   "codemirror_mode": {
    "name": "ipython",
    "version": 3
   },
   "file_extension": ".py",
   "mimetype": "text/x-python",
   "name": "python",
   "nbconvert_exporter": "python",
   "pygments_lexer": "ipython3",
   "version": "3.6.4"
  }
 },
 "nbformat": 4,
 "nbformat_minor": 2
}
